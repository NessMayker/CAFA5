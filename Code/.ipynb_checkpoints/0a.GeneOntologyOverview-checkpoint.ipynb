{
 "cells": [
  {
   "cell_type": "markdown",
   "id": "informed-sleeping",
   "metadata": {},
   "source": [
    "# An overview on Gene Ontology (? Team)"
   ]
  },
  {
   "cell_type": "markdown",
   "id": "3f155f86",
   "metadata": {},
   "source": [
    "#### CAFA 5 Protein Function Prediction Competition\n",
    "https://www.kaggle.com/competitions/cafa-5-protein-function-prediction/overview\n",
    "\n",
    "Dataset: \n",
    "https://www.kaggle.com/competitions/cafa-5-protein-function-prediction/data\n",
    "\n",
    "This notebook uses code provided by: \n",
    "\n",
    "The Erdös Institute May 2023 Bootcamp\n",
    "https://github.com/TheErdosInstitute/code-2023\n"
   ]
  },
  {
   "cell_type": "markdown",
   "id": "6eabaf7b",
   "metadata": {},
   "source": [
    "## An overview of Gene Ontology. \n",
    "https://www.kaggle.com/competitions/cafa-5-protein-function-prediction/data\n",
    "\n",
    "### Gene Ontology consists of three subontologies: Molecular Function (MF), Biological Process (BP), and Cellular Component (CC)\n",
    "\n",
    "These can be described by what it does on a molecular level (MF), which biological processes it participates in (BP) and where in the cell it is located (CC)\n",
    "\n",
    "This dataset uses experimentally determined protein assignments.\n",
    "\n",
    "#### Training Set\n",
    "For the training set, we include all proteins with annotated terms that have been validated by experimental or high-throughput evidence, traceable author statement (evidence code TAS), or inferred by curator (IC). More information about evidence codes can be found here. We use annotations from the UniProtKB release of 2022-11-17. The participants are not required to use these data and are also welcome to use any other data available to them.\n",
    "\n",
    "#### Test Superset\n",
    "The test superset is a set of protein sequences on which the participants are asked to predict GO terms.\n",
    "\n",
    "#### Test Set\n",
    "The test set is unknown at the beginning of the competition. It will contain protein sequences (and their functions) from the test superset that gained experimental annotations between the submission deadline and the time of evaluation."
   ]
  },
  {
   "cell_type": "markdown",
   "id": "43ef4c14",
   "metadata": {},
   "source": [
    "# File Descriptions\n",
    "\n",
    "### Gene Ontology: \n",
    "\n",
    "The ontology data is in the file go-basic.obo. This structure is the 2023-01-01 release of the GO graph. This file is in OBO format, for which there exist many parsing libraries. For example, the obonet package is available for Python. The nodes in this graph are indexed by the term name, for example the roots of the three onotlogies are:\n",
    "\n",
    "subontology_roots = {'BPO':'GO:0008150',\n",
    "                     'CCO':'GO:0005575',\n",
    "                     'MFO':'GO:0003674'}\n",
    "                     "
   ]
  },
  {
   "cell_type": "code",
   "execution_count": 2,
   "id": "51f3457c",
   "metadata": {},
   "outputs": [
    {
     "ename": "FileNotFoundError",
     "evalue": "[Errno 2] No such file or directory: '../Data/Train/go-basic.obo'",
     "output_type": "error",
     "traceback": [
      "\u001b[0;31m---------------------------------------------------------------------------\u001b[0m",
      "\u001b[0;31mFileNotFoundError\u001b[0m                         Traceback (most recent call last)",
      "\u001b[0;32m/var/folders/9h/_7zlhm0d44l4v1c73f1lcr1r0000gn/T/ipykernel_55762/21023558.py\u001b[0m in \u001b[0;36m<module>\u001b[0;34m\u001b[0m\n\u001b[1;32m      8\u001b[0m \u001b[0;34m\u001b[0m\u001b[0m\n\u001b[1;32m      9\u001b[0m \u001b[0montologyDataFile\u001b[0m \u001b[0;34m=\u001b[0m \u001b[0;34m\"../Data/Train/go-basic.obo\"\u001b[0m\u001b[0;34m\u001b[0m\u001b[0;34m\u001b[0m\u001b[0m\n\u001b[0;32m---> 10\u001b[0;31m \u001b[0mobonet\u001b[0m\u001b[0;34m.\u001b[0m\u001b[0mread_obo\u001b[0m\u001b[0;34m(\u001b[0m\u001b[0montologyDataFile\u001b[0m\u001b[0;34m)\u001b[0m\u001b[0;34m\u001b[0m\u001b[0;34m\u001b[0m\u001b[0m\n\u001b[0m\u001b[1;32m     11\u001b[0m \u001b[0;34m\u001b[0m\u001b[0m\n\u001b[1;32m     12\u001b[0m \u001b[0;31m# Read the taxrank ontology\u001b[0m\u001b[0;34m\u001b[0m\u001b[0;34m\u001b[0m\u001b[0m\n",
      "\u001b[0;32m~/opt/anaconda3/lib/python3.9/site-packages/obonet/read.py\u001b[0m in \u001b[0;36mread_obo\u001b[0;34m(path_or_file, ignore_obsolete, encoding)\u001b[0m\n\u001b[1;32m     35\u001b[0m         \u001b[0;32mis\u001b[0m \u001b[0ma\u001b[0m \u001b[0mpath\u001b[0m\u001b[0;34m/\u001b[0m\u001b[0mURL\u001b[0m\u001b[0;34m.\u001b[0m \u001b[0mSet\u001b[0m \u001b[0mto\u001b[0m \u001b[0;32mNone\u001b[0m \u001b[0;32mfor\u001b[0m \u001b[0mplatform\u001b[0m\u001b[0;34m-\u001b[0m\u001b[0mdependent\u001b[0m \u001b[0mlocale\u001b[0m \u001b[0mdefault\u001b[0m\u001b[0;34m.\u001b[0m\u001b[0;34m\u001b[0m\u001b[0;34m\u001b[0m\u001b[0m\n\u001b[1;32m     36\u001b[0m     \"\"\"\n\u001b[0;32m---> 37\u001b[0;31m     \u001b[0;32mwith\u001b[0m \u001b[0mopen_read_file\u001b[0m\u001b[0;34m(\u001b[0m\u001b[0mpath_or_file\u001b[0m\u001b[0;34m,\u001b[0m \u001b[0mencoding\u001b[0m\u001b[0;34m=\u001b[0m\u001b[0mencoding\u001b[0m\u001b[0;34m)\u001b[0m \u001b[0;32mas\u001b[0m \u001b[0mobo_file\u001b[0m\u001b[0;34m:\u001b[0m\u001b[0;34m\u001b[0m\u001b[0;34m\u001b[0m\u001b[0m\n\u001b[0m\u001b[1;32m     38\u001b[0m         \u001b[0mtypedefs\u001b[0m\u001b[0;34m,\u001b[0m \u001b[0mterms\u001b[0m\u001b[0;34m,\u001b[0m \u001b[0minstances\u001b[0m\u001b[0;34m,\u001b[0m \u001b[0mheader\u001b[0m \u001b[0;34m=\u001b[0m \u001b[0mget_sections\u001b[0m\u001b[0;34m(\u001b[0m\u001b[0mobo_file\u001b[0m\u001b[0;34m)\u001b[0m\u001b[0;34m\u001b[0m\u001b[0;34m\u001b[0m\u001b[0m\n\u001b[1;32m     39\u001b[0m \u001b[0;34m\u001b[0m\u001b[0m\n",
      "\u001b[0;32m~/opt/anaconda3/lib/python3.9/site-packages/obonet/io.py\u001b[0m in \u001b[0;36mopen_read_file\u001b[0;34m(path, encoding)\u001b[0m\n\u001b[1;32m     47\u001b[0m \u001b[0;34m\u001b[0m\u001b[0m\n\u001b[1;32m     48\u001b[0m     \u001b[0;31m# Read from file\u001b[0m\u001b[0;34m\u001b[0m\u001b[0;34m\u001b[0m\u001b[0m\n\u001b[0;32m---> 49\u001b[0;31m     \u001b[0;32mreturn\u001b[0m \u001b[0mopener\u001b[0m\u001b[0;34m(\u001b[0m\u001b[0mpath\u001b[0m\u001b[0;34m,\u001b[0m \u001b[0;34m\"rt\"\u001b[0m\u001b[0;34m,\u001b[0m \u001b[0mencoding\u001b[0m\u001b[0;34m=\u001b[0m\u001b[0mencoding\u001b[0m\u001b[0;34m)\u001b[0m\u001b[0;34m\u001b[0m\u001b[0;34m\u001b[0m\u001b[0m\n\u001b[0m\u001b[1;32m     50\u001b[0m \u001b[0;34m\u001b[0m\u001b[0m\n\u001b[1;32m     51\u001b[0m \u001b[0;34m\u001b[0m\u001b[0m\n",
      "\u001b[0;31mFileNotFoundError\u001b[0m: [Errno 2] No such file or directory: '../Data/Train/go-basic.obo'"
     ]
    }
   ],
   "source": [
    "# This code uses code exerpts from the following obonet tutorial \n",
    "# https://github.com/dhimmel/obonet/blob/main/examples/go-obonet.ipynb\n",
    "\n",
    "# !pip install obonet\n",
    "\n",
    "import obonet #https://pypi.org/project/obonet/\n",
    "import networkx\n",
    "\n",
    "ontologyDataFile = \"../Data/Train/go-basic.obo\" \n",
    "obonet.read_obo(ontologyDataFile)\n",
    "\n",
    "# Read the taxrank ontology\n",
    "graph = obonet.read_obo(ontologyDataFile)\n",
    "\n",
    "# Number of nodes\n",
    "print(len(graph))\n",
    "\n",
    "# Number of edges\n",
    "print(graph.number_of_edges())\n",
    "\n",
    "# Check if the ontology is a DAG\n",
    "print(networkx.is_directed_acyclic_graph(graph))\n",
    "\n",
    "# Mapping from term ID to name\n",
    "id_to_name = {id_: data.get('name') for id_, data in graph.nodes(data=True)}\n",
    "print(id_to_name['GO:0008150'])  # 'GO:0008150' is Biological Process\n",
    "print(id_to_name['GO:0005575'])  # 'GO:0005575' is Cellular Component\n",
    "print(id_to_name['GO:0003674'])  # 'GO:0003674' is Molecular Function\n",
    "\n",
    "# Find all superterms of species. Note that networkx.descendants gets\n",
    "# superterms, while networkx.ancestors returns subterms.\n",
    "print(networkx.descendants(graph, 'GO:0008150'))"
   ]
  },
  {
   "cell_type": "markdown",
   "id": "23fd4dbf",
   "metadata": {},
   "source": [
    "## Lookup node properties"
   ]
  },
  {
   "cell_type": "code",
   "execution_count": null,
   "id": "6a6be491",
   "metadata": {},
   "outputs": [],
   "source": []
  }
 ],
 "metadata": {
  "kernelspec": {
   "display_name": "Python 3 (ipykernel)",
   "language": "python",
   "name": "python3"
  },
  "language_info": {
   "codemirror_mode": {
    "name": "ipython",
    "version": 3
   },
   "file_extension": ".py",
   "mimetype": "text/x-python",
   "name": "python",
   "nbconvert_exporter": "python",
   "pygments_lexer": "ipython3",
   "version": "3.9.13"
  }
 },
 "nbformat": 4,
 "nbformat_minor": 5
}
