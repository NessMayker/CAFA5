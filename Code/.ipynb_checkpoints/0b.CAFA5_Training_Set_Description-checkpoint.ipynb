{
 "cells": [
  {
   "cell_type": "markdown",
   "id": "informed-sleeping",
   "metadata": {},
   "source": [
    "# An overview on Gene Ontology (? Team)"
   ]
  },
  {
   "cell_type": "markdown",
   "id": "d5fa75a8",
   "metadata": {},
   "source": [
    "#### CAFA 5 Protein Function Prediction Competition\n",
    "https://www.kaggle.com/competitions/cafa-5-protein-function-prediction/overview\n",
    "\n",
    "Dataset: \n",
    "https://www.kaggle.com/competitions/cafa-5-protein-function-prediction/data\n",
    "\n",
    "This notebook uses code provided by: \n",
    "\n",
    "The Erdös Institute May 2023 Bootcamp\n",
    "https://github.com/TheErdosInstitute/code-2023\n"
   ]
  },
  {
   "cell_type": "markdown",
   "id": "8182c0aa",
   "metadata": {},
   "source": [
    "## An overview of Gene Ontology. \n",
    "https://www.kaggle.com/competitions/cafa-5-protein-function-prediction/data\n",
    "\n",
    "### Gene Ontology consists of three subontologies: Molecular Function (MF), Biological Process (BP), and Cellular Component (CC)\n",
    "\n",
    "These can be described by what it does on a molecular level (MF), which biological processes it participates in (BP) and where in the cell it is located (CC)\n",
    "\n",
    "This dataset uses experimentally determined protein assignments.\n",
    "\n",
    "#### Training Set\n",
    "For the training set, we include all proteins with annotated terms that have been validated by experimental or high-throughput evidence, traceable author statement (evidence code TAS), or inferred by curator (IC). More information about evidence codes can be found here. We use annotations from the UniProtKB release of 2022-11-17. The participants are not required to use these data and are also welcome to use any other data available to them.\n",
    "\n",
    "#### Test Superset\n",
    "The test superset is a set of protein sequences on which the participants are asked to predict GO terms.\n",
    "\n",
    "#### Test Set\n",
    "The test set is unknown at the beginning of the competition. It will contain protein sequences (and their functions) from the test superset that gained experimental annotations between the submission deadline and the time of evaluation."
   ]
  },
  {
   "cell_type": "markdown",
   "id": "72db5553",
   "metadata": {},
   "source": [
    "# File Descriptions\n",
    "\n",
    "### Gene Ontology: \n",
    "\n",
    "The ontology data is in the file go-basic.obo. This structure is the 2023-01-01 release of the GO graph. This file is in OBO format, for which there exist many parsing libraries. For example, the obonet package is available for Python. The nodes in this graph are indexed by the term name, for example the roots of the three onotlogies are:\n",
    "\n",
    "subontology_roots = {'BPO':'GO:0008150',\n",
    "                     'CCO':'GO:0005575',\n",
    "                     'MFO':'GO:0003674'}\n",
    "                     "
   ]
  },
  {
   "cell_type": "code",
   "execution_count": 1,
   "id": "51d5f051",
   "metadata": {},
   "outputs": [
    {
     "name": "stdout",
     "output_type": "stream",
     "text": [
      "43248\n",
      "84805\n",
      "True\n",
      "biological_process\n",
      "cellular_component\n",
      "molecular_function\n",
      "set()\n"
     ]
    }
   ],
   "source": [
    "# This code uses code exerpts from the following obonet tutorial \n",
    "# https://github.com/dhimmel/obonet/blob/main/examples/go-obonet.ipynb\n",
    "\n",
    "# !pip install obonet\n",
    "\n",
    "import obonet #https://pypi.org/project/obonet/\n",
    "import networkx\n",
    "\n",
    "ontologyDataFile = \"../Data/Train/go-basic.obo\" \n",
    "obonet.read_obo(ontologyDataFile)\n",
    "\n",
    "# Read the taxrank ontology\n",
    "graph = obonet.read_obo(ontologyDataFile)\n",
    "\n",
    "# Number of nodes\n",
    "print(len(graph))\n",
    "\n",
    "# Number of edges\n",
    "print(graph.number_of_edges())\n",
    "\n",
    "# Check if the ontology is a DAG\n",
    "print(networkx.is_directed_acyclic_graph(graph))\n",
    "\n",
    "# Mapping from term ID to name\n",
    "id_to_name = {id_: data.get('name') for id_, data in graph.nodes(data=True)}\n",
    "print(id_to_name['GO:0008150'])  # 'GO:0008150' is Biological Process\n",
    "print(id_to_name['GO:0005575'])  # 'GO:0005575' is Cellular Component\n",
    "print(id_to_name['GO:0003674'])  # 'GO:0003674' is Molecular Function\n",
    "\n",
    "# Find all superterms of species. Note that networkx.descendants gets\n",
    "# superterms, while networkx.ancestors returns subterms.\n",
    "print(networkx.descendants(graph, 'GO:0008150'))"
   ]
  },
  {
   "cell_type": "markdown",
   "id": "250e80be",
   "metadata": {},
   "source": [
    "## Lookup node properties"
   ]
  },
  {
   "cell_type": "code",
   "execution_count": 2,
   "id": "3cd31608",
   "metadata": {},
   "outputs": [
    {
     "data": {
      "text/plain": [
       "{'name': 'phagocytosis',\n",
       " 'namespace': 'biological_process',\n",
       " 'def': '\"A vesicle-mediated transport process that results in the engulfment of external particulate material by phagocytes and their delivery to the lysosome. The particles are initially contained within phagocytic vacuoles (phagosomes), which then fuse with primary lysosomes to effect digestion of the particles.\" [ISBN:0198506732]',\n",
       " 'xref': ['Wikipedia:Phagocytosis'],\n",
       " 'is_a': ['GO:0016192']}"
      ]
     },
     "execution_count": 2,
     "metadata": {},
     "output_type": "execute_result"
    }
   ],
   "source": [
    "# Retreive properties of phagocytosis\n",
    "graph.nodes['GO:0006909']"
   ]
  },
  {
   "cell_type": "markdown",
   "id": "b47563a7",
   "metadata": {},
   "source": [
    "## Create name mappings\n"
   ]
  },
  {
   "cell_type": "code",
   "execution_count": 3,
   "id": "59f0c612",
   "metadata": {},
   "outputs": [
    {
     "name": "stdout",
     "output_type": "stream",
     "text": [
      "myelination\n",
      "GO:0042552\n"
     ]
    }
   ],
   "source": [
    "id_to_name = {id_: data.get('name') for id_, data in graph.nodes(data=True)}\n",
    "name_to_id = {data['name']: id_ for id_, data in graph.nodes(data=True) if 'name' in data}\n",
    "\n",
    "# Get the name for GO:0042552\n",
    "print(id_to_name['GO:0042552'])\n",
    "\n",
    "# Get the id for myelination\n",
    "print(name_to_id['myelination'])"
   ]
  },
  {
   "cell_type": "markdown",
   "id": "81b4f55f",
   "metadata": {},
   "source": [
    "## Find parent or child relationships"
   ]
  },
  {
   "cell_type": "code",
   "execution_count": 4,
   "id": "687e605f",
   "metadata": {},
   "outputs": [
    {
     "name": "stdout",
     "output_type": "stream",
     "text": [
      "• pilus ⟶ is_a ⟶ cell projection\n"
     ]
    }
   ],
   "source": [
    "# Find edges to parent terms\n",
    "node = name_to_id['pilus']\n",
    "for child, parent, key in graph.out_edges(node, keys=True):\n",
    "    print(f'• {id_to_name[child]} ⟶ {key} ⟶ {id_to_name[parent]}')"
   ]
  },
  {
   "cell_type": "code",
   "execution_count": 5,
   "id": "c157edbe",
   "metadata": {},
   "outputs": [
    {
     "name": "stdout",
     "output_type": "stream",
     "text": [
      "• pilus ⟵ part_of ⟵ pilus shaft\n",
      "• pilus ⟵ part_of ⟵ pilus tip\n",
      "• pilus ⟵ is_a ⟵ type IV pilus\n",
      "• pilus ⟵ is_a ⟵ curli\n",
      "• pilus ⟵ is_a ⟵ type I pilus\n"
     ]
    }
   ],
   "source": [
    "# Find edges to children terms\n",
    "node = name_to_id['pilus']\n",
    "for parent, child, key in graph.in_edges(node, keys=True):\n",
    "    print(f'• {id_to_name[child]} ⟵ {key} ⟵ {id_to_name[parent]}')"
   ]
  },
  {
   "cell_type": "markdown",
   "id": "a94809a0",
   "metadata": {},
   "source": [
    "## Find all superterms to myelination"
   ]
  },
  {
   "cell_type": "code",
   "execution_count": 6,
   "id": "83bf888e",
   "metadata": {},
   "outputs": [
    {
     "data": {
      "text/plain": [
       "['anatomical structure development',\n",
       " 'axon ensheathment',\n",
       " 'biological_process',\n",
       " 'cellular process',\n",
       " 'developmental process',\n",
       " 'ensheathment of neurons',\n",
       " 'multicellular organism development',\n",
       " 'multicellular organismal process',\n",
       " 'nervous system development',\n",
       " 'system development']"
      ]
     },
     "execution_count": 6,
     "metadata": {},
     "output_type": "execute_result"
    }
   ],
   "source": [
    "sorted(id_to_name[superterm] for superterm in networkx.descendants(graph, 'GO:0042552'))\n"
   ]
  },
  {
   "cell_type": "markdown",
   "id": "5efcd1ec",
   "metadata": {},
   "source": [
    "## Find all subterms to myelination"
   ]
  },
  {
   "cell_type": "code",
   "execution_count": 7,
   "id": "5b0ea8f6",
   "metadata": {},
   "outputs": [
    {
     "data": {
      "text/plain": [
       "['central nervous system myelin formation',\n",
       " 'central nervous system myelin maintenance',\n",
       " 'central nervous system myelination',\n",
       " 'myelin assembly',\n",
       " 'myelin maintenance',\n",
       " 'myelination in peripheral nervous system',\n",
       " 'myelination of anterior lateral line nerve axons',\n",
       " 'myelination of lateral line nerve axons',\n",
       " 'myelination of posterior lateral line nerve axons',\n",
       " 'negative regulation of myelination',\n",
       " 'paranodal junction assembly',\n",
       " 'peripheral nervous system myelin formation',\n",
       " 'peripheral nervous system myelin maintenance',\n",
       " 'positive regulation of myelination',\n",
       " 'regulation of myelination']"
      ]
     },
     "execution_count": 7,
     "metadata": {},
     "output_type": "execute_result"
    }
   ],
   "source": [
    "sorted(id_to_name[subterm] for subterm in networkx.ancestors(graph, 'GO:0042552'))\n"
   ]
  },
  {
   "cell_type": "markdown",
   "id": "fe5c7fac",
   "metadata": {},
   "source": [
    "## Find all paths to the root"
   ]
  },
  {
   "cell_type": "code",
   "execution_count": 8,
   "id": "5c3c89d5",
   "metadata": {},
   "outputs": [
    {
     "name": "stdout",
     "output_type": "stream",
     "text": [
      "• starch binding ⟶ polysaccharide binding ⟶ carbohydrate binding ⟶ binding ⟶ molecular_function\n"
     ]
    }
   ],
   "source": [
    "paths = networkx.all_simple_paths(\n",
    "    graph,\n",
    "    source=name_to_id['starch binding'],\n",
    "    target=name_to_id['molecular_function']\n",
    ")\n",
    "for path in paths:\n",
    "    print('•', ' ⟶ '.join(id_to_name[node] for node in path))"
   ]
  },
  {
   "cell_type": "markdown",
   "id": "0390e3c0",
   "metadata": {},
   "source": [
    "## See the ontology metadata"
   ]
  },
  {
   "cell_type": "code",
   "execution_count": 10,
   "id": "cc22d133",
   "metadata": {},
   "outputs": [
    {
     "data": {
      "text/plain": [
       "{'typedefs': [{'id': 'negatively_regulates',\n",
       "   'name': 'negatively regulates',\n",
       "   'namespace': 'external',\n",
       "   'xref': ['RO:0002212'],\n",
       "   'is_a': ['regulates']},\n",
       "  {'id': 'part_of',\n",
       "   'name': 'part of',\n",
       "   'namespace': 'external',\n",
       "   'xref': ['BFO:0000050'],\n",
       "   'is_transitive': 'true'},\n",
       "  {'id': 'positively_regulates',\n",
       "   'name': 'positively regulates',\n",
       "   'namespace': 'external',\n",
       "   'xref': ['RO:0002213'],\n",
       "   'holds_over_chain': ['negatively_regulates negatively_regulates'],\n",
       "   'is_a': ['regulates']},\n",
       "  {'id': 'regulates',\n",
       "   'name': 'regulates',\n",
       "   'namespace': 'external',\n",
       "   'xref': ['RO:0002211'],\n",
       "   'is_transitive': 'true'},\n",
       "  {'id': 'term_tracker_item',\n",
       "   'name': 'term tracker item',\n",
       "   'namespace': 'external',\n",
       "   'xref': ['IAO:0000233'],\n",
       "   'is_metadata_tag': 'true',\n",
       "   'is_class_level': 'true'}],\n",
       " 'instances': [],\n",
       " 'format-version': '1.2',\n",
       " 'data-version': 'releases/2023-01-01',\n",
       " 'subsetdef': ['chebi_ph7_3 \"Rhea list of ChEBI terms representing the major species at pH 7.3.\"',\n",
       "  'gocheck_do_not_annotate \"Term not to be used for direct annotation\"',\n",
       "  'gocheck_do_not_manually_annotate \"Term not to be used for direct manual annotation\"',\n",
       "  'goslim_agr \"AGR slim\"',\n",
       "  'goslim_aspergillus \"Aspergillus GO slim\"',\n",
       "  'goslim_candida \"Candida GO slim\"',\n",
       "  'goslim_chembl \"ChEMBL protein targets summary\"',\n",
       "  'goslim_drosophila \"Drosophila GO slim\"',\n",
       "  'goslim_flybase_ribbon \"FlyBase Drosophila GO ribbon slim\"',\n",
       "  'goslim_generic \"Generic GO slim\"',\n",
       "  'goslim_metagenomics \"Metagenomics GO slim\"',\n",
       "  'goslim_mouse \"Mouse GO slim\"',\n",
       "  'goslim_pir \"PIR GO slim\"',\n",
       "  'goslim_plant \"Plant GO slim\"',\n",
       "  'goslim_pombe \"Fission yeast GO slim\"',\n",
       "  'goslim_synapse \"synapse GO slim\"',\n",
       "  'goslim_yeast \"Yeast GO slim\"',\n",
       "  'prokaryote_subset \"GO subset for prokaryotes\"'],\n",
       " 'synonymtypedef': ['syngo_official_label \"label approved by the SynGO project\"',\n",
       "  'systematic_synonym \"Systematic synonym\" EXACT'],\n",
       " 'default-namespace': ['gene_ontology'],\n",
       " 'ontology': 'go',\n",
       " 'name': 'go'}"
      ]
     },
     "execution_count": 10,
     "metadata": {},
     "output_type": "execute_result"
    }
   ],
   "source": [
    "graph.graph"
   ]
  },
  {
   "cell_type": "markdown",
   "id": "3acdbb3c",
   "metadata": {},
   "source": [
    "## Create a dictionary of obsolete terms to their replacements\n"
   ]
  },
  {
   "cell_type": "code",
   "execution_count": 11,
   "id": "a3aa9853",
   "metadata": {},
   "outputs": [
    {
     "data": {
      "text/plain": [
       "47417"
      ]
     },
     "execution_count": 11,
     "metadata": {},
     "output_type": "execute_result"
    }
   ],
   "source": [
    "graph_with_obs = obonet.read_obo(ontologyDataFile, ignore_obsolete=False)\n",
    "len(graph_with_obs)\n"
   ]
  },
  {
   "cell_type": "code",
   "execution_count": 12,
   "id": "7388a26d",
   "metadata": {},
   "outputs": [
    {
     "data": {
      "text/plain": [
       "[('GO:0000108', 'GO:0000109'),\n",
       " ('GO:0000174', 'GO:0000750'),\n",
       " ('GO:0000229', 'GO:0005694'),\n",
       " ('GO:0000260', 'GO:0046961'),\n",
       " ('GO:0000261', 'GO:0046962')]"
      ]
     },
     "execution_count": 12,
     "metadata": {},
     "output_type": "execute_result"
    }
   ],
   "source": [
    "old_to_new = dict()\n",
    "for node, data in graph_with_obs.nodes(data=True):\n",
    "    for replaced_by in data.get(\"replaced_by\", []):\n",
    "        old_to_new[node] = replaced_by\n",
    "list(old_to_new.items())[:5]"
   ]
  },
  {
   "cell_type": "code",
   "execution_count": null,
   "id": "410d5cdc",
   "metadata": {},
   "outputs": [],
   "source": []
  }
 ],
 "metadata": {
  "kernelspec": {
   "display_name": "Python 3 (ipykernel)",
   "language": "python",
   "name": "python3"
  },
  "language_info": {
   "codemirror_mode": {
    "name": "ipython",
    "version": 3
   },
   "file_extension": ".py",
   "mimetype": "text/x-python",
   "name": "python",
   "nbconvert_exporter": "python",
   "pygments_lexer": "ipython3",
   "version": "3.9.13"
  }
 },
 "nbformat": 4,
 "nbformat_minor": 5
}
